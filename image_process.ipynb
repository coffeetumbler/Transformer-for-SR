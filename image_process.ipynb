{
 "cells": [
  {
   "cell_type": "code",
   "execution_count": null,
   "id": "a8483ce0-0e47-4f78-9bef-9e8c5cb73c01",
   "metadata": {},
   "outputs": [],
   "source": [
    "import time\n",
    "\n",
    "import torch\n",
    "from torchvision.transforms import Normalize\n",
    "\n",
    "import utils.config as config\n",
    "import utils.image_processing as ipc"
   ]
  },
  {
   "cell_type": "code",
   "execution_count": null,
   "id": "ff2dda87-450d-42c1-b1cb-1c997dab35be",
   "metadata": {},
   "outputs": [],
   "source": [
    "# Denormalize images.\n",
    "img = torch.randint(256, (4, 3, 5, 5)) / 255\n",
    "print(img[0])"
   ]
  },
  {
   "cell_type": "code",
   "execution_count": null,
   "id": "494a5e62-2986-434c-b8df-896f212b84cb",
   "metadata": {},
   "outputs": [],
   "source": [
    "img_normalize = Normalize(mean=config.IMG_NORM_MEAN, std=config.IMG_NORM_STD)\n",
    "normalized_img = img_normalize(img)\n",
    "print(normalized_img[0])"
   ]
  },
  {
   "cell_type": "code",
   "execution_count": null,
   "id": "fcd935f3-473a-4351-9691-ca9ad6d228bf",
   "metadata": {},
   "outputs": [],
   "source": [
    "denormalized_img = ipc.denormalize(normalized_img)\n",
    "print(denormalized_img[0])"
   ]
  },
  {
   "cell_type": "code",
   "execution_count": null,
   "id": "f0cb6fed-9b6e-4f50-944b-21f684c48ff1",
   "metadata": {},
   "outputs": [],
   "source": [
    "# Check runtime for denormalization.\n",
    "start_time = time.time()\n",
    "for _ in range(1000):\n",
    "    ipc.denormalize(normalized_img)\n",
    "print('runtime :', time.time() - start_time)"
   ]
  },
  {
   "cell_type": "code",
   "execution_count": null,
   "id": "4c4ce33c-8db8-429f-8cdd-083c3d25922b",
   "metadata": {},
   "outputs": [],
   "source": []
  },
  {
   "cell_type": "code",
   "execution_count": null,
   "id": "730e570f-3fab-4835-8847-d060f0ba5c51",
   "metadata": {},
   "outputs": [],
   "source": [
    "# Quantize images.\n",
    "noised_img = normalized_img + torch.randn(4, 3, 5, 5) * 0.1\n",
    "print(noised_img[0])"
   ]
  },
  {
   "cell_type": "code",
   "execution_count": null,
   "id": "4d54bd05-78dd-447e-a54f-864df32e4ef9",
   "metadata": {},
   "outputs": [],
   "source": [
    "noised_denormalized = ipc.denormalize(noised_img)\n",
    "print(noised_denormalized[0])"
   ]
  },
  {
   "cell_type": "code",
   "execution_count": null,
   "id": "ab96611b-3fbf-4e38-aa0f-561cb97cb935",
   "metadata": {},
   "outputs": [],
   "source": [
    "quantized_img = ipc.quantize(noised_denormalized)\n",
    "print(quantized_img[0])"
   ]
  },
  {
   "cell_type": "code",
   "execution_count": null,
   "id": "ab3227e8-adb8-4d07-9669-8ad9eb6a9391",
   "metadata": {},
   "outputs": [],
   "source": [
    "print(ipc.quantize(denormalized_img)[0])"
   ]
  },
  {
   "cell_type": "code",
   "execution_count": null,
   "id": "f57d30b5-f589-4f56-bd64-eb5798d252f2",
   "metadata": {},
   "outputs": [],
   "source": []
  },
  {
   "cell_type": "code",
   "execution_count": null,
   "id": "178d9972-283b-4445-a4bb-23133e43eb61",
   "metadata": {},
   "outputs": [],
   "source": [
    "# Y channel conversion\n",
    "y_channel_pixel = ipc.convert_y_channel(img, add_bias=True)\n",
    "print(y_channel_pixel[0])"
   ]
  },
  {
   "cell_type": "code",
   "execution_count": null,
   "id": "45db8dd6-486e-4176-8487-ed7337f13db1",
   "metadata": {},
   "outputs": [],
   "source": [
    "y_channel_diff = ipc.convert_y_channel(img, add_bias=False)\n",
    "print(y_channel_diff[0])"
   ]
  },
  {
   "cell_type": "code",
   "execution_count": null,
   "id": "40142d39-a36e-4ce2-98a8-c09bf97f1f5d",
   "metadata": {},
   "outputs": [],
   "source": []
  }
 ],
 "metadata": {
  "kernelspec": {
   "display_name": "sr_trans",
   "language": "python",
   "name": "sr_trans"
  },
  "language_info": {
   "codemirror_mode": {
    "name": "ipython",
    "version": 3
   },
   "file_extension": ".py",
   "mimetype": "text/x-python",
   "name": "python",
   "nbconvert_exporter": "python",
   "pygments_lexer": "ipython3",
   "version": "3.9.12"
  }
 },
 "nbformat": 4,
 "nbformat_minor": 5
}
