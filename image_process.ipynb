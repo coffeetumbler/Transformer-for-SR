{
 "cells": [
  {
   "cell_type": "code",
   "execution_count": 1,
   "id": "a8483ce0-0e47-4f78-9bef-9e8c5cb73c01",
   "metadata": {},
   "outputs": [
    {
     "name": "stderr",
     "output_type": "stream",
     "text": [
      "/home/coffeetumbler/anaconda3/envs/sr_trans/lib/python3.9/site-packages/tqdm/auto.py:22: TqdmWarning: IProgress not found. Please update jupyter and ipywidgets. See https://ipywidgets.readthedocs.io/en/stable/user_install.html\n",
      "  from .autonotebook import tqdm as notebook_tqdm\n"
     ]
    }
   ],
   "source": [
    "import time, cv2\n",
    "\n",
    "import numpy as np\n",
    "import torch\n",
    "from torchvision.transforms import Normalize\n",
    "\n",
    "import utils.config as config\n",
    "import utils.image_processing as ipc"
   ]
  },
  {
   "cell_type": "code",
   "execution_count": null,
   "id": "ff2dda87-450d-42c1-b1cb-1c997dab35be",
   "metadata": {},
   "outputs": [],
   "source": [
    "# Denormalize images.\n",
    "img = torch.randint(256, (4, 3, 5, 5)) / 255\n",
    "print(img[0])"
   ]
  },
  {
   "cell_type": "code",
   "execution_count": null,
   "id": "494a5e62-2986-434c-b8df-896f212b84cb",
   "metadata": {},
   "outputs": [],
   "source": [
    "img_normalize = Normalize(mean=config.IMG_NORM_MEAN, std=config.IMG_NORM_STD)\n",
    "normalized_img = img_normalize(img)\n",
    "print(normalized_img[0])"
   ]
  },
  {
   "cell_type": "code",
   "execution_count": null,
   "id": "fcd935f3-473a-4351-9691-ca9ad6d228bf",
   "metadata": {},
   "outputs": [],
   "source": [
    "denormalized_img = ipc.denormalize(normalized_img)\n",
    "print(denormalized_img[0])"
   ]
  },
  {
   "cell_type": "code",
   "execution_count": null,
   "id": "f0cb6fed-9b6e-4f50-944b-21f684c48ff1",
   "metadata": {},
   "outputs": [],
   "source": [
    "# Check runtime for denormalization.\n",
    "start_time = time.time()\n",
    "for _ in range(1000):\n",
    "    ipc.denormalize(normalized_img)\n",
    "print('runtime :', time.time() - start_time)"
   ]
  },
  {
   "cell_type": "code",
   "execution_count": null,
   "id": "4c4ce33c-8db8-429f-8cdd-083c3d25922b",
   "metadata": {},
   "outputs": [],
   "source": []
  },
  {
   "cell_type": "code",
   "execution_count": null,
   "id": "730e570f-3fab-4835-8847-d060f0ba5c51",
   "metadata": {},
   "outputs": [],
   "source": [
    "# Quantize images.\n",
    "noised_img = normalized_img + torch.randn(4, 3, 5, 5) * 0.1\n",
    "print(noised_img[0])"
   ]
  },
  {
   "cell_type": "code",
   "execution_count": null,
   "id": "4d54bd05-78dd-447e-a54f-864df32e4ef9",
   "metadata": {},
   "outputs": [],
   "source": [
    "noised_denormalized = ipc.denormalize(noised_img)\n",
    "print(noised_denormalized[0])"
   ]
  },
  {
   "cell_type": "code",
   "execution_count": null,
   "id": "ab96611b-3fbf-4e38-aa0f-561cb97cb935",
   "metadata": {},
   "outputs": [],
   "source": [
    "quantized_img = ipc.quantize(noised_denormalized)\n",
    "print(quantized_img[0])"
   ]
  },
  {
   "cell_type": "code",
   "execution_count": null,
   "id": "ab3227e8-adb8-4d07-9669-8ad9eb6a9391",
   "metadata": {},
   "outputs": [],
   "source": [
    "print(ipc.quantize(denormalized_img)[0])"
   ]
  },
  {
   "cell_type": "code",
   "execution_count": null,
   "id": "f57d30b5-f589-4f56-bd64-eb5798d252f2",
   "metadata": {},
   "outputs": [],
   "source": []
  },
  {
   "cell_type": "code",
   "execution_count": null,
   "id": "178d9972-283b-4445-a4bb-23133e43eb61",
   "metadata": {},
   "outputs": [],
   "source": [
    "# Y channel conversion\n",
    "y_channel_pixel = ipc.convert_y_channel(img, add_bias=True)\n",
    "print(y_channel_pixel[0])"
   ]
  },
  {
   "cell_type": "code",
   "execution_count": null,
   "id": "45db8dd6-486e-4176-8487-ed7337f13db1",
   "metadata": {},
   "outputs": [],
   "source": [
    "y_channel_diff = ipc.convert_y_channel(img, add_bias=False)\n",
    "print(y_channel_diff[0])"
   ]
  },
  {
   "cell_type": "code",
   "execution_count": null,
   "id": "40142d39-a36e-4ce2-98a8-c09bf97f1f5d",
   "metadata": {},
   "outputs": [],
   "source": []
  },
  {
   "cell_type": "code",
   "execution_count": 2,
   "id": "d1b10b3b-c9f7-4331-8a16-a92d2134e5ba",
   "metadata": {},
   "outputs": [],
   "source": [
    "# Matlab imresize test\n",
    "base_dir = '/mnt/d/ubuntu/datasets/DIV2K/DIV2K_swinir/'\n",
    "\n",
    "hr_img = cv2.imread(base_dir + 'DIV2K_train_HR/0001.png')\n",
    "lr_img = cv2.imread(base_dir + 'DIV2K_train_LR_bicubic/X2/0001x2.png')"
   ]
  },
  {
   "cell_type": "code",
   "execution_count": 3,
   "id": "e2b7390f-975d-4ca3-8e3f-3d68b4bb65f0",
   "metadata": {},
   "outputs": [
    {
     "name": "stdout",
     "output_type": "stream",
     "text": [
      "(1404, 2040, 3) (702, 1020, 3)\n"
     ]
    }
   ],
   "source": [
    "print(hr_img.shape, lr_img.shape)"
   ]
  },
  {
   "cell_type": "code",
   "execution_count": 4,
   "id": "da4f7df3-40ee-4655-8f23-9a67b364b7ee",
   "metadata": {},
   "outputs": [
    {
     "name": "stdout",
     "output_type": "stream",
     "text": [
      "(702, 1020, 3)\n"
     ]
    }
   ],
   "source": [
    "lr_img_matlab = ipc.imresize_np(hr_img / 255, 0.5)\n",
    "print(lr_img_matlab.shape)\n",
    "lr_img_matlab = np.round(lr_img_matlab * 255)"
   ]
  },
  {
   "cell_type": "code",
   "execution_count": 9,
   "id": "68289d1a-69c7-4634-a9bc-ef8c87c88715",
   "metadata": {},
   "outputs": [
    {
     "name": "stdout",
     "output_type": "stream",
     "text": [
      "(702, 1020, 3)\n"
     ]
    }
   ],
   "source": [
    "lr_img_cv2 = cv2.resize(hr_img, dsize=(1020, 702), interpolation=cv2.INTER_CUBIC)\n",
    "print(lr_img_cv2.shape)\n",
    "lr_img_cv2 = np.round(lr_img_cv2)"
   ]
  },
  {
   "cell_type": "code",
   "execution_count": 10,
   "id": "7dbe5fc4-d9c7-41b0-a60f-7382fabebbb0",
   "metadata": {},
   "outputs": [
    {
     "data": {
      "text/plain": [
       "0.14992737835875092"
      ]
     },
     "execution_count": 10,
     "metadata": {},
     "output_type": "execute_result"
    }
   ],
   "source": [
    "np.sum(lr_img_matlab != lr_img) / np.product(lr_img.shape)"
   ]
  },
  {
   "cell_type": "code",
   "execution_count": 11,
   "id": "d02355eb-d89e-4fa1-893a-45211fb2c460",
   "metadata": {
    "tags": []
   },
   "outputs": [
    {
     "data": {
      "text/plain": [
       "0.763410330893991"
      ]
     },
     "execution_count": 11,
     "metadata": {},
     "output_type": "execute_result"
    }
   ],
   "source": [
    "np.sum(lr_img_cv2 != lr_img) / np.product(lr_img.shape)"
   ]
  },
  {
   "cell_type": "code",
   "execution_count": null,
   "id": "d23c756f-df5e-4ecb-bf22-56d788987020",
   "metadata": {},
   "outputs": [],
   "source": []
  },
  {
   "cell_type": "code",
   "execution_count": 43,
   "id": "a1798e55-8cc9-4ce3-a8fa-92a3e5a0748b",
   "metadata": {},
   "outputs": [],
   "source": [
    "# Matlab imresize test\n",
    "# base_dir = 'datasets/Set5/'\n",
    "\n",
    "# hr_img = cv2.imread(base_dir + 'HR/baby.png')\n",
    "# lr_img = cv2.imread(base_dir + 'LR_bicubic/X2/babyx2.png')\n",
    "\n",
    "base_dir = '/mnt/d/ubuntu/datasets/DIV2K/DIV2K_swinir/'\n",
    "\n",
    "hr_img = cv2.imread(base_dir + 'DIV2K_train_HR/0001.png')\n",
    "lr_img = cv2.imread(base_dir + 'DIV2K_train_LR_bicubic/X2/0001x2.png')"
   ]
  },
  {
   "cell_type": "code",
   "execution_count": 44,
   "id": "934c357c-65c7-4c46-8240-e636baf2ec74",
   "metadata": {},
   "outputs": [
    {
     "name": "stdout",
     "output_type": "stream",
     "text": [
      "(1404, 2040, 3) (702, 1020, 3)\n"
     ]
    }
   ],
   "source": [
    "print(hr_img.shape, lr_img.shape)"
   ]
  },
  {
   "cell_type": "code",
   "execution_count": 47,
   "id": "bb6b5c68-453f-4940-ab9a-d63636195155",
   "metadata": {},
   "outputs": [
    {
     "name": "stdout",
     "output_type": "stream",
     "text": [
      "(702, 1020, 3)\n"
     ]
    }
   ],
   "source": [
    "lr_img_cv2 = cv2.resize(hr_img, dsize=(lr_img.shape[1], lr_img.shape[0]), interpolation=cv2.INTER_CUBIC)\n",
    "print(lr_img_cv2.shape)\n",
    "lr_img_cv2 = np.round(lr_img_cv2)"
   ]
  },
  {
   "cell_type": "code",
   "execution_count": 48,
   "id": "75bf437d-5228-4609-a0bc-bb4683b2980a",
   "metadata": {},
   "outputs": [],
   "source": [
    "hr_img = torch.from_numpy(hr_img).permute(2, 0, 1)\n",
    "lr_img = torch.from_numpy(lr_img).permute(2, 0, 1)"
   ]
  },
  {
   "cell_type": "code",
   "execution_count": 49,
   "id": "3d02acf3-bf8c-4694-9890-52975c3fa583",
   "metadata": {},
   "outputs": [
    {
     "name": "stdout",
     "output_type": "stream",
     "text": [
      "torch.Size([3, 702, 1020])\n"
     ]
    }
   ],
   "source": [
    "lr_img_matlab = ipc.imresize(hr_img / 255, 0.5)\n",
    "print(lr_img_matlab.shape)\n",
    "lr_img_matlab = torch.round(lr_img_matlab * 255)"
   ]
  },
  {
   "cell_type": "code",
   "execution_count": 50,
   "id": "ba77c535-291c-4338-826e-1b6a1a44beaa",
   "metadata": {},
   "outputs": [
    {
     "data": {
      "text/plain": [
       "tensor(0.1499)"
      ]
     },
     "execution_count": 50,
     "metadata": {},
     "output_type": "execute_result"
    }
   ],
   "source": [
    "torch.sum(lr_img_matlab != lr_img) / np.product(lr_img.shape)"
   ]
  },
  {
   "cell_type": "code",
   "execution_count": 53,
   "id": "242aa5ca-2182-49d2-9bd2-4f5e2a5e05a7",
   "metadata": {},
   "outputs": [
    {
     "name": "stdout",
     "output_type": "stream",
     "text": [
      "60.99903106689453\n",
      "42.19990539550781\n"
     ]
    }
   ],
   "source": [
    "def PSNR(A, B):\n",
    "    diff=A-B\n",
    "    diff = ipc.convert_y_channel(diff, add_bias=False)\n",
    "    mse = (diff**2).mean(dim=(1,2))\n",
    "    return (-10)*torch.log10(mse).sum()\n",
    "\n",
    "print(PSNR(lr_img_matlab / 255, lr_img / 255).item())\n",
    "print(PSNR(torch.from_numpy(lr_img_cv2).permute(2, 0, 1) / 255, lr_img / 255).item())"
   ]
  },
  {
   "cell_type": "code",
   "execution_count": null,
   "id": "f942f7fd-5dbb-41a4-bd15-4b7872e2ce68",
   "metadata": {},
   "outputs": [],
   "source": []
  }
 ],
 "metadata": {
  "kernelspec": {
   "display_name": "sr_trans",
   "language": "python",
   "name": "sr_trans"
  },
  "language_info": {
   "codemirror_mode": {
    "name": "ipython",
    "version": 3
   },
   "file_extension": ".py",
   "mimetype": "text/x-python",
   "name": "python",
   "nbconvert_exporter": "python",
   "pygments_lexer": "ipython3",
   "version": "3.9.12"
  }
 },
 "nbformat": 4,
 "nbformat_minor": 5
}
