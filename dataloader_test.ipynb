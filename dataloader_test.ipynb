{
 "cells": [
  {
   "cell_type": "code",
   "execution_count": 166,
   "metadata": {},
   "outputs": [],
   "source": [
    "import os\n",
    "import numpy as np\n",
    "import random\n",
    "import cv2\n",
    "import pandas as pd\n",
    "\n",
    "import torch\n",
    "from torch.utils.data import Dataset\n",
    "from torch.utils.data import DataLoader\n",
    "from torchvision.transforms import Normalize"
   ]
  },
  {
   "cell_type": "code",
   "execution_count": null,
   "metadata": {},
   "outputs": [],
   "source": [
    "'''\n",
    "실행시키지 말 것 dataset zip파일 압축 푸는 코드\n",
    "'''\n",
    "# import zipfile\n",
    "# DIV2K = zipfile.ZipFile('/home/lahj91/SR/DIV2K_valid_HR.zip')\n",
    "# DIV2K.extractall('/home/lahj91/SR/DIV2K')\n",
    "# DIV2K.close()"
   ]
  },
  {
   "cell_type": "code",
   "execution_count": 144,
   "metadata": {},
   "outputs": [],
   "source": [
    "'''\n",
    "실행시키지 말 것 data 이름 저장하는 코드\n",
    "'''\n",
    "# name = os.listdir('./SR_training_datasets/BSDS200')#해당주소에서 data 이름 list로 추출\n",
    "# df = pd.DataFrame(name, columns = ['name']) #열 이름 = name 으로 list name을 저장\n",
    "# df.to_csv(\"BSDS200_DataName.csv\", index=False) #csv 파일로 저장"
   ]
  },
  {
   "cell_type": "code",
   "execution_count": 290,
   "metadata": {},
   "outputs": [],
   "source": [
    "'''\n",
    "실행시키지 말 것 data 이름 저장하는 코드\n",
    "'''\n",
    "# name = os.listdir('./DIV2K/DIV2K_train_HR')\n",
    "# df = pd.DataFrame(name, columns = ['name']) #열 이름 = name 으로 list name을 저장\n",
    "# df.to_csv(\"DIV2K_train_DataName.csv\", index=False) #csv 파일로 저장"
   ]
  },
  {
   "cell_type": "code",
   "execution_count": 299,
   "metadata": {},
   "outputs": [],
   "source": [
    "'''\n",
    "실행시키지 말 것 data 이름 저장하는 코드\n",
    "'''\n",
    "# name = os.listdir('./DIV2K/DIV2K_valid_HR')\n",
    "# df = pd.DataFrame(name, columns = ['name']) #열 이름 = name 으로 list name을 저장\n",
    "# df.to_csv(\"DIV2K_valid_DataName.csv\", index=False) #csv 파일로 저장"
   ]
  },
  {
   "cell_type": "code",
   "execution_count": 192,
   "metadata": {},
   "outputs": [],
   "source": [
    "'''\n",
    "실행시키지 말 것 data 이름 저장하는 코드\n",
    "'''\n",
    "# name = os.listdir('/home/lahj91/SR/SR_testing_datasets/BSDS100')\n",
    "# df = pd.DataFrame(name, columns = ['name']) #열 이름 = name 으로 list name을 저장\n",
    "# df.to_csv(\"valid_BSDS200.csv\", index=False) #csv 파일로 저장"
   ]
  },
  {
   "cell_type": "code",
   "execution_count": 157,
   "metadata": {},
   "outputs": [],
   "source": [
    "'''\n",
    "부가적인 함수들\n",
    "'''\n",
    "def img2tensor(img, normalize=True):\n",
    "    # handle gray image\n",
    "    if len(img.shape)==2:\n",
    "        img = img[:,:,np.newaxis]\n",
    "    img = np.transpose(img, axes=(2,0,1)).astype(np.float32)\n",
    "    if normalize:\n",
    "        img = img / img.max()\n",
    "    return torch.from_numpy(img)\n",
    "\n",
    "def tensor2img(tensor):\n",
    "    if len(tensor.shape)==2:\n",
    "        img = tensor.cpu().numpy()\n",
    "    elif len(tensor.shape)==3:\n",
    "        img = np.transpose(tensor.cpu().numpy(), axes=(1,2,0))\n",
    "    return img\n",
    "\n",
    "def read_img_as_tensor(img_path, img_size=224, normalize=True):\n",
    "    if isinstance(img_size, int):\n",
    "        img_size = (img_size, img_size)\n",
    "    img = cv2.imread(img_path, cv2.IMREAD_UNCHANGED)\n",
    "    img = cv2.cvtColor(img, cv2.COLOR_BGR2RGB)\n",
    "    img = cv2.resize(img, img_size)\n",
    "    img = img2tensor(img, normalize=normalize)\n",
    "    return img"
   ]
  },
  {
   "cell_type": "code",
   "execution_count": 189,
   "metadata": {},
   "outputs": [],
   "source": [
    "'''\n",
    "dataset loader code\n",
    "'''\n",
    "class dataset_SR(Dataset):\n",
    "    def __init__(self,\n",
    "                SR_mode = 2,\n",
    "                flip=0.5, \n",
    "                rotation = [cv2.ROTATE_90_CLOCKWISE, cv2.ROTATE_180, cv2.ROTATE_90_COUNTERCLOCKWISE],\n",
    "                degradation = [cv2.INTER_NEAREST, cv2.INTER_LINEAR, cv2.INTER_AREA, cv2.INTER_CUBIC, cv2.INTER_LANCZOS4], \n",
    "                channel_wise_noise = True, \n",
    "                normalization = True,\n",
    "                data='DIV2K',\n",
    "                setting = \"train\"):\n",
    "        super(dataset_SR, self).__init__()\n",
    "        self.SR_mode = SR_mode\n",
    "        self.flip = flip\n",
    "        self.rotation = rotation\n",
    "        self.data = data\n",
    "        self.degradation = degradation\n",
    "        self.channel_wise_noise = channel_wise_noise\n",
    "        self.normalization = normalization\n",
    "        self.setting = setting\n",
    "        self.mode_path = {\"train\" : '/home/lahj91/SR/SR_training_datasets', \"val\" : '/home/lahj91/SR/SR_testing_datasets'}\n",
    "        self.data_name_list = pd.read_csv('./DataName/' + self.setting + \"_\" + self.data + \".csv\")\n",
    "        self.normalize_img = Normalize(mean=[0.406, 0.456, 0.485], std=[0.225, 0.224, 0.229])\n",
    "    def __len__(self):\n",
    "        return len(self.data_name_list)\n",
    "    def __getitem__(self, idx):\n",
    "        view_path = self.mode_path[self.setting]+ '/'+ self.data + '/' + self.data_name_list.iloc[idx]['name']\n",
    "        origin = cv2.imread(view_path, cv2.IMREAD_UNCHANGED)\n",
    "        p, q = random.randint(0, origin.shape[0]-self.SR_mode*48), random.randint(0, origin.shape[1]-self.SR_mode*48)\n",
    "        origin = origin[p:p+self.SR_mode*48,  q:q+self.SR_mode*48] #random crop(96*96)으로 origin data 생성\n",
    "        if self.channel_wise_noise: #channel-wise noise\n",
    "            pn = np.random.uniform(*[1 - 0.4, 1 + 0.4], size=(3))\n",
    "            origin = np.minimum(255., np.maximum(0., origin * pn[np.newaxis, np.newaxis, :]))\n",
    "        if random.random() < self.flip: #좌우반전\n",
    "            origin = cv2.flip(origin, 1)\n",
    "        if self.rotation != False: #rotation\n",
    "            rd = random.random()\n",
    "            if rd < 3/4:\n",
    "                origin = cv2.rotate(origin, random.choice(self.rotation))\n",
    "            else:\n",
    "                origin = origin\n",
    "        degraded = cv2.resize(origin, dsize=(int(self.SR_mode*24),int(self.SR_mode*24)), fx=0.5, fy=0.5, interpolation=random.choice(self.degradation)) \n",
    "        interpolated = cv2.resize(degraded, dsize=(self.SR_mode*48,self.SR_mode*48), fx=0.5, fy=0.5, interpolation=cv2.INTER_CUBIC) #bicubic으로 degraded를 96*96 size 복원\n",
    "        return torch.from_numpy(origin.transpose(2,0,1))/255, self.normalize_img(torch.from_numpy(degraded.transpose(2,0,1))/255), self.normalize_img(torch.from_numpy(interpolated.transpose(2,0,1))/255)"
   ]
  },
  {
   "cell_type": "code",
   "execution_count": 190,
   "metadata": {},
   "outputs": [
    {
     "data": {
      "text/plain": [
       "True"
      ]
     },
     "execution_count": 190,
     "metadata": {},
     "output_type": "execute_result"
    }
   ],
   "source": [
    "dataloader = dataset_SR() #dataset_SR class 불러오기\n",
    "origin, degraded, interpolated = dataloader.__getitem__(2) #test code, 저장하여 확인(cv2.imshow가 안됨;;; 쓰지말 것 kernel 터짐)\n",
    "'''\n",
    "아래는 잘 뽑히고 있는지 시각화(저장됨)하는 코드\n",
    "'''\n",
    "cv2.imwrite('/home/lahj91/SR/origin.png',tensor2img(origin))\n",
    "cv2.imwrite('/home/lahj91/SR/degraded.png',tensor2img(degraded))\n",
    "cv2.imwrite('/home/lahj91/SR/interpolated.png',tensor2img(interpolated))"
   ]
  },
  {
   "cell_type": "code",
   "execution_count": 191,
   "metadata": {},
   "outputs": [
    {
     "data": {
      "text/plain": [
       "tensor([[[0.7039, 0.6436, 0.6597,  ..., 0.0965, 0.2172, 0.3459],\n",
       "         [0.6959, 0.6717, 0.6516,  ..., 0.2092, 0.2092, 0.2936],\n",
       "         [0.6717, 0.6838, 0.6516,  ..., 0.1730, 0.2373, 0.2413],\n",
       "         ...,\n",
       "         [0.6436, 0.5832, 0.3459,  ..., 0.4143, 0.4746, 0.4827],\n",
       "         [0.5953, 0.6315, 0.4867,  ..., 0.4505, 0.4827, 0.5309],\n",
       "         [0.5510, 0.6114, 0.5752,  ..., 0.4585, 0.5832, 0.5470]],\n",
       "\n",
       "        [[1.0000, 1.0000, 1.0000,  ..., 0.1135, 0.2615, 0.4242],\n",
       "         [1.0000, 1.0000, 1.0000,  ..., 0.2763, 0.2516, 0.3552],\n",
       "         [1.0000, 1.0000, 1.0000,  ..., 0.2861, 0.3108, 0.2812],\n",
       "         ...,\n",
       "         [1.0000, 1.0000, 0.8288,  ..., 0.7844, 0.8436, 0.8485],\n",
       "         [1.0000, 1.0000, 0.9619,  ..., 0.8140, 0.8288, 0.8830],\n",
       "         [1.0000, 1.0000, 1.0000,  ..., 0.8090, 0.9373, 0.9126]],\n",
       "\n",
       "        [[0.6666, 0.6509, 0.6431,  ..., 0.0680, 0.1490, 0.2301],\n",
       "         [0.6614, 0.6614, 0.6353,  ..., 0.1490, 0.1438, 0.1987],\n",
       "         [0.6562, 0.6640, 0.6379,  ..., 0.1595, 0.1752, 0.1595],\n",
       "         ...,\n",
       "         [0.6457, 0.6431, 0.5490,  ..., 0.5124, 0.5385, 0.5464],\n",
       "         [0.6274, 0.6536, 0.6091,  ..., 0.5333, 0.5359, 0.5699],\n",
       "         [0.6222, 0.6431, 0.6274,  ..., 0.5307, 0.5882, 0.5777]]],\n",
       "       dtype=torch.float64)"
      ]
     },
     "execution_count": 191,
     "metadata": {},
     "output_type": "execute_result"
    }
   ],
   "source": [
    "origin"
   ]
  },
  {
   "cell_type": "code",
   "execution_count": 171,
   "metadata": {},
   "outputs": [],
   "source": [
    "'''\n",
    "torch DataLoader 작동 확인\n",
    "'''\n",
    "dataloader = dataset_SR() #dataset_SR class 불러오기\n",
    "dataloader = DataLoader(dataloader, batch_size=3, shuffle=True) #torch datloader 정의"
   ]
  }
 ],
 "metadata": {
  "kernelspec": {
   "display_name": "Python 3.9.12 ('SR': conda)",
   "language": "python",
   "name": "python3"
  },
  "language_info": {
   "codemirror_mode": {
    "name": "ipython",
    "version": 3
   },
   "file_extension": ".py",
   "mimetype": "text/x-python",
   "name": "python",
   "nbconvert_exporter": "python",
   "pygments_lexer": "ipython3",
   "version": "3.9.12"
  },
  "orig_nbformat": 4,
  "vscode": {
   "interpreter": {
    "hash": "8d9270d579d8ebbe73ed8b49f1a59e893b9664ab3a1c0ee56f3974d12cb24dc6"
   }
  }
 },
 "nbformat": 4,
 "nbformat_minor": 2
}
