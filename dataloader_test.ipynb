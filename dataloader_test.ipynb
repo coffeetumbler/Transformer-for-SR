{
 "cells": [
  {
   "cell_type": "code",
   "execution_count": 143,
   "metadata": {},
   "outputs": [],
   "source": [
    "import os\n",
    "import numpy as np\n",
    "import random\n",
    "import cv2\n",
    "import pandas as pd\n",
    "\n",
    "import torch\n",
    "from torch.utils.data import Dataset\n",
    "from torch.utils.data import DataLoader"
   ]
  },
  {
   "cell_type": "code",
   "execution_count": null,
   "metadata": {},
   "outputs": [],
   "source": [
    "'''\n",
    "실행시키지 말 것 dataset zip파일 압축 푸는 코드\n",
    "'''\n",
    "# import zipfile\n",
    "# DIV2K = zipfile.ZipFile('/home/lahj91/SR/DIV2K_valid_HR.zip')\n",
    "# DIV2K.extractall('/home/lahj91/SR/DIV2K')\n",
    "# DIV2K.close()"
   ]
  },
  {
   "cell_type": "code",
   "execution_count": 144,
   "metadata": {},
   "outputs": [],
   "source": [
    "'''\n",
    "실행시키지 말 것 data 이름 저장하는 코드\n",
    "'''\n",
    "# name = os.listdir('./SR_training_datasets/BSDS200')#해당주소에서 data 이름 list로 추출\n",
    "# df = pd.DataFrame(name, columns = ['name']) #열 이름 = name 으로 list name을 저장\n",
    "# df.to_csv(\"BSDS200_DataName.csv\", index=False) #csv 파일로 저장"
   ]
  },
  {
   "cell_type": "code",
   "execution_count": 290,
   "metadata": {},
   "outputs": [],
   "source": [
    "'''\n",
    "실행시키지 말 것 data 이름 저장하는 코드\n",
    "'''\n",
    "# name = os.listdir('./DIV2K/DIV2K_train_HR')\n",
    "# df = pd.DataFrame(name, columns = ['name']) #열 이름 = name 으로 list name을 저장\n",
    "# df.to_csv(\"DIV2K_train_DataName.csv\", index=False) #csv 파일로 저장"
   ]
  },
  {
   "cell_type": "code",
   "execution_count": 299,
   "metadata": {},
   "outputs": [],
   "source": [
    "'''\n",
    "실행시키지 말 것 data 이름 저장하는 코드\n",
    "'''\n",
    "# name = os.listdir('./DIV2K/DIV2K_valid_HR')\n",
    "# df = pd.DataFrame(name, columns = ['name']) #열 이름 = name 으로 list name을 저장\n",
    "# df.to_csv(\"DIV2K_valid_DataName.csv\", index=False) #csv 파일로 저장"
   ]
  },
  {
   "cell_type": "code",
   "execution_count": 332,
   "metadata": {},
   "outputs": [],
   "source": [
    "'''\n",
    "부가적인 함수들 밑에는 img2tensor만 사용함\n",
    "'''\n",
    "def img2tensor(img, normalize=True):\n",
    "    # handle gray image\n",
    "    if len(img.shape)==2:\n",
    "        img = img[:,:,np.newaxis]\n",
    "    img = np.transpose(img, axes=(2,0,1)).astype(np.float32)\n",
    "    if normalize:\n",
    "        img = img / img.max()\n",
    "    return torch.from_numpy(img)\n",
    "\n",
    "def tensor2img(tensor):\n",
    "    if len(tensor.shape)==2:\n",
    "        img = tensor.cpu().numpy()\n",
    "    elif len(tensor.shape)==3:\n",
    "        img = np.transpose(tensor.cpu().numpy(), axes=(1,2,0))\n",
    "    return img\n",
    "\n",
    "def read_img_as_tensor(img_path, img_size=224, normalize=True):\n",
    "    if isinstance(img_size, int):\n",
    "        img_size = (img_size, img_size)\n",
    "    img = cv2.imread(img_path, cv2.IMREAD_UNCHANGED)\n",
    "    img = cv2.cvtColor(img, cv2.COLOR_BGR2RGB)\n",
    "    img = cv2.resize(img, img_size)\n",
    "    img = img2tensor(img, normalize=normalize)\n",
    "    return img"
   ]
  },
  {
   "cell_type": "code",
   "execution_count": 314,
   "metadata": {},
   "outputs": [],
   "source": [
    "'''\n",
    "torch DataLoader 작동 확인\n",
    "'''\n",
    "train_data = pd.read_csv('/home/lahj91/SR/DIV2K_train_DataName.csv') #csv파일 load\n",
    "dataloader = dataset_SR(train_data) #dataset_SR class 불러오기\n",
    "dataloader = DataLoader(dataloader, batch_size=3, shuffle=True) #torch datloader 정의"
   ]
  },
  {
   "cell_type": "code",
   "execution_count": 400,
   "metadata": {},
   "outputs": [],
   "source": [
    "'''\n",
    "dataset loader code\n",
    "'''\n",
    "class dataset_SR(Dataset):\n",
    "    def __init__(self, df, \n",
    "                SR_mode = 96, \n",
    "                transforms=None, \n",
    "                flip=0.5, \n",
    "                rotation = [cv2.ROTATE_90_CLOCKWISE, cv2.ROTATE_180, cv2.ROTATE_90_COUNTERCLOCKWISE],\n",
    "                degradation = [cv2.INTER_NEAREST, cv2.INTER_LINEAR, cv2.INTER_AREA, cv2.INTER_CUBIC, cv2.INTER_LANCZOS4], \n",
    "                channel_wise_noise = True, \n",
    "                data='DIV2K',\n",
    "                setting = \"train\"):\n",
    "        super(dataset_SR, self).__init__()\n",
    "        self.df = df\n",
    "        self.SR_mode = SR_mode\n",
    "        self.transforms = transforms\n",
    "        self.flip = flip\n",
    "        self.rotation = rotation\n",
    "        self.data = data\n",
    "        self.degradation = degradation\n",
    "        self.channel_wise_noise = channel_wise_noise\n",
    "        self.setting = setting\n",
    "    def __len__(self):\n",
    "        return len(self.df)\n",
    "\n",
    "    def __getitem__(self, idx):\n",
    "        if self.setting == \"train\":\n",
    "            if self.data == 'BSDS200': #DIV2K로 일단 할 거기 때문에 무시\n",
    "                view_path = '/home/lahj91/SR/SR_training_datasets/BSDS200'+'/'+self.df.iloc[idx]['name']\n",
    "                origin = cv2.imread(view_path, cv2.IMREAD_UNCHANGED)\n",
    "                p, q = random.randint(0, origin.shape[0]-self.SR_mode), random.randint(0, origin.shape[1]-self.SR_mode)\n",
    "                origin = origin[p:p+self.SR_mode,  q:q+self.SR_mode] #random crop(96*96)으로 origin data 생성\n",
    "                if random.random() < self.flip: #좌우반전\n",
    "                    origin = cv2.flip(origin, 1)\n",
    "                if self.rotation != False: #rotation\n",
    "                    rd = random.random()\n",
    "                    if rd < 3/4:\n",
    "                        origin = cv2.rotate(origin, random.choice(self.rotation))\n",
    "                    else:\n",
    "                        origin = origin\n",
    "                degraded = cv2.resize(origin, dsize=(int(self.SR_mode/2),int(self.SR_mode/2)), fx=0.5, fy=0.5, interpolation=random.choice(self.degradation)) \n",
    "                interpolated = cv2.resize(degraded, dsize=(self.SR_mode,self.SR_mode), fx=0.5, fy=0.5, interpolation=cv2.INTER_CUBIC) #bicubic으로 degraded를 96*96 size 복원\n",
    "                if self.transforms:\n",
    "                    for transform in self.transforms:\n",
    "                        origin = transform(origin)\n",
    "\n",
    "\n",
    "            if self.data == 'DIV2K':\n",
    "                view_path = '/home/lahj91/SR/DIV2K/DIV2K_train_HR'+'/'+self.df.iloc[idx]['name']\n",
    "                origin = cv2.imread(view_path, cv2.IMREAD_UNCHANGED)\n",
    "                p, q = random.randint(0, origin.shape[0]-self.SR_mode), random.randint(0, origin.shape[1]-self.SR_mode)\n",
    "                origin = origin[p:p+self.SR_mode,  q:q+self.SR_mode] #random crop(96*96)으로 origin data 생성\n",
    "                if self.channel_wise_noise: #channel-wise noise\n",
    "                    pn = np.random.uniform(*[1 - 0.4, 1 + 0.4], size=(3))\n",
    "                    origin = np.minimum(255., np.maximum(0., origin.transpose(2,0,1) * pn[:,np.newaxis,np.newaxis])).transpose(1,2,0)\n",
    "                if random.random() < self.flip: #좌우반전\n",
    "                    origin = cv2.flip(origin, 1)\n",
    "                if self.rotation != False: #rotation\n",
    "                    rd = random.random()\n",
    "                    if rd < 3/4:\n",
    "                        origin = cv2.rotate(origin, random.choice(self.rotation))\n",
    "                    else:\n",
    "                        origin = origin\n",
    "\n",
    "                degraded = cv2.resize(origin, dsize=(int(self.SR_mode/2),int(self.SR_mode/2)), fx=0.5, fy=0.5, interpolation=random.choice(self.degradation)) #48*48로 random degradation\n",
    "                interpolated = cv2.resize(degraded, dsize=(self.SR_mode,self.SR_mode), fx=0.5, fy=0.5, interpolation=cv2.INTER_CUBIC) #bicubic으로 degraded를 96*96 size 복원\n",
    "                if self.transforms:\n",
    "                    for transform in self.transforms:\n",
    "                        origin = transform(origin)\n",
    "                        \n",
    "        elif self.setting == \"val\":\n",
    "            if self.data == 'DIV2K':\n",
    "                view_path = '/home/lahj91/SR/DIV2K/DIV2K_valid_HR'+'/'+self.df.iloc[idx]['name']\n",
    "                origin = cv2.imread(view_path, cv2.IMREAD_UNCHANGED)\n",
    "                p, q = random.randint(0, origin.shape[0]-self.SR_mode), random.randint(0, origin.shape[1]-self.SR_mode)\n",
    "                origin = origin[p:p+self.SR_mode,  q:q+self.SR_mode] #random crop(96*96)으로 origin data 생성\n",
    "                degraded = cv2.resize(origin, dsize=(int(self.SR_mode/2),int(self.SR_mode/2)), fx=0.5, fy=0.5, interpolation=random.choice(self.degradation)) #48*48로 random degradation\n",
    "                interpolated = cv2.resize(degraded, dsize=(self.SR_mode,self.SR_mode), fx=0.5, fy=0.5, interpolation=cv2.INTER_CUBIC) #bicubic으로 degraded를 96*96 size 복원\n",
    "                if self.transforms:\n",
    "                    for transform in self.transforms:\n",
    "                        origin = transform(origin)\n",
    "\n",
    "        return torch.from_numpy(origin.transpose(2,0,1)), torch.from_numpy(degraded.transpose(2,0,1)), torch.from_numpy(interpolated.transpose(2,0,1))\n"
   ]
  },
  {
   "cell_type": "code",
   "execution_count": 402,
   "metadata": {},
   "outputs": [
    {
     "data": {
      "text/plain": [
       "True"
      ]
     },
     "execution_count": 402,
     "metadata": {},
     "output_type": "execute_result"
    }
   ],
   "source": [
    "train_data = pd.read_csv('/home/lahj91/SR/DIV2K_train_DataName.csv') #csv파일 load\n",
    "dataloader = dataset_SR(train_data) #dataset_SR class 불러오기\n",
    "origin, degraded, interpolated = dataloader.__getitem__(2) #test code, 저장하여 확인(cv2.imshow가 안됨;;; 쓰지말 것 kernel 터짐)\n",
    "\n",
    "'''\n",
    "아래는 잘 뽑히고 있는지 시각화(저장됨)하는 코드\n",
    "'''\n",
    "cv2.imwrite('/home/lahj91/SR/origin.png',tensor2img(origin))\n",
    "cv2.imwrite('/home/lahj91/SR/degraded.png',tensor2img(degraded))\n",
    "cv2.imwrite('/home/lahj91/SR/interpolated.png',tensor2img(interpolated))"
   ]
  },
  {
   "cell_type": "code",
   "execution_count": 399,
   "metadata": {},
   "outputs": [
    {
     "data": {
      "text/plain": [
       "name    0027.png\n",
       "Name: 2, dtype: object"
      ]
     },
     "execution_count": 399,
     "metadata": {},
     "output_type": "execute_result"
    }
   ],
   "source": [
    "train_data.iloc[2] #몇번 data가 뽑혔는지 확인하고 싶으면 해당 data가서 보기"
   ]
  },
  {
   "cell_type": "code",
   "execution_count": 355,
   "metadata": {},
   "outputs": [
    {
     "data": {
      "text/plain": [
       "True"
      ]
     },
     "execution_count": 355,
     "metadata": {},
     "output_type": "execute_result"
    }
   ],
   "source": [
    "train_data = pd.read_csv('/home/lahj91/SR/DIV2K_valid_DataName.csv') #csv파일 load\n",
    "dataloader = dataset_SR(train_data, setting=\"val\") #dataset_SR class 불러오기\n",
    "origin, degraded, interpolated = dataloader.__getitem__(2) #test code, 저장하여 확인(cv2.imshow가 안됨;;; 쓰지말 것 kernel 터짐)\n",
    "cv2.imwrite('/home/lahj91/SR/origin.png',tensor2img(origin))\n",
    "cv2.imwrite('/home/lahj91/SR/degraded.png',tensor2img(degraded))\n",
    "cv2.imwrite('/home/lahj91/SR/interpolated.png',tensor2img(interpolated))"
   ]
  }
 ],
 "metadata": {
  "kernelspec": {
   "display_name": "Python 3.8.8 ('base')",
   "language": "python",
   "name": "python3"
  },
  "language_info": {
   "codemirror_mode": {
    "name": "ipython",
    "version": 3
   },
   "file_extension": ".py",
   "mimetype": "text/x-python",
   "name": "python",
   "nbconvert_exporter": "python",
   "pygments_lexer": "ipython3",
   "version": "3.8.8"
  },
  "orig_nbformat": 4,
  "vscode": {
   "interpreter": {
    "hash": "2cf82bc2e688c3d93a6f9c567c1bf50d23ac93a8e9531158022c12286343afea"
   }
  }
 },
 "nbformat": 4,
 "nbformat_minor": 2
}
