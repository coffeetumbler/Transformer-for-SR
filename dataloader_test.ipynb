{
 "cells": [
  {
   "cell_type": "code",
   "execution_count": null,
   "metadata": {},
   "outputs": [],
   "source": [
    "import os\n",
    "import numpy as np\n",
    "import random\n",
    "import cv2\n",
    "import pandas as pd\n",
    "\n",
    "import torch\n",
    "from torch.utils.data import Dataset\n",
    "from torch.utils.data import DataLoader\n",
    "from torchvision.transforms import Normalize\n",
    "\n",
    "from utils.dataloader import get_dataloader"
   ]
  },
  {
   "cell_type": "code",
   "execution_count": null,
   "metadata": {},
   "outputs": [],
   "source": [
    "'''\n",
    "실행시키지 말 것 dataset zip파일 압축 푸는 코드\n",
    "'''\n",
    "# import zipfile\n",
    "# DIV2K = zipfile.ZipFile('/home/lahj91/SR/DIV2K_valid_HR.zip')\n",
    "# DIV2K.extractall('/home/lahj91/SR/DIV2K')\n",
    "# DIV2K.close()"
   ]
  },
  {
   "cell_type": "code",
   "execution_count": 144,
   "metadata": {},
   "outputs": [],
   "source": [
    "'''\n",
    "실행시키지 말 것 data 이름 저장하는 코드\n",
    "'''\n",
    "# name = os.listdir('./SR_training_datasets/BSDS200')#해당주소에서 data 이름 list로 추출\n",
    "# df = pd.DataFrame(name, columns = ['name']) #열 이름 = name 으로 list name을 저장\n",
    "# df.to_csv(\"BSDS200_DataName.csv\", index=False) #csv 파일로 저장"
   ]
  },
  {
   "cell_type": "code",
   "execution_count": 290,
   "metadata": {},
   "outputs": [],
   "source": [
    "'''\n",
    "실행시키지 말 것 data 이름 저장하는 코드\n",
    "'''\n",
    "# name = os.listdir('./DIV2K/DIV2K_train_HR')\n",
    "# df = pd.DataFrame(name, columns = ['name']) #열 이름 = name 으로 list name을 저장\n",
    "# df.to_csv(\"DIV2K_train_DataName.csv\", index=False) #csv 파일로 저장"
   ]
  },
  {
   "cell_type": "code",
   "execution_count": 299,
   "metadata": {},
   "outputs": [],
   "source": [
    "'''\n",
    "실행시키지 말 것 data 이름 저장하는 코드\n",
    "'''\n",
    "# name = os.listdir('./DIV2K/DIV2K_valid_HR')\n",
    "# df = pd.DataFrame(name, columns = ['name']) #열 이름 = name 으로 list name을 저장\n",
    "# df.to_csv(\"DIV2K_valid_DataName.csv\", index=False) #csv 파일로 저장"
   ]
  },
  {
   "cell_type": "code",
   "execution_count": 192,
   "metadata": {},
   "outputs": [],
   "source": [
    "'''\n",
    "실행시키지 말 것 data 이름 저장하는 코드\n",
    "'''\n",
    "# name = os.listdir('/home/lahj91/SR/SR_testing_datasets/BSDS100')\n",
    "# df = pd.DataFrame(name, columns = ['name']) #열 이름 = name 으로 list name을 저장\n",
    "# df.to_csv(\"valid_BSDS200.csv\", index=False) #csv 파일로 저장"
   ]
  },
  {
   "cell_type": "code",
   "execution_count": 7,
   "metadata": {},
   "outputs": [],
   "source": [
    "'''\n",
    "부가적인 함수들\n",
    "'''\n",
    "def img2tensor(img, normalize=True):\n",
    "    # handle gray image\n",
    "    if len(img.shape)==2:\n",
    "        img = img[:,:,np.newaxis]\n",
    "    img = np.transpose(img, axes=(2,0,1)).astype(np.float32)\n",
    "    if normalize:\n",
    "        img = img / img.max()\n",
    "    return torch.from_numpy(img)\n",
    "\n",
    "def tensor2img(tensor):\n",
    "    if len(tensor.shape)==2:\n",
    "        img = tensor.cpu().numpy()\n",
    "    elif len(tensor.shape)==3:\n",
    "        img = np.transpose(tensor.cpu().numpy(), axes=(1,2,0))\n",
    "    return img\n",
    "\n",
    "def read_img_as_tensor(img_path, img_size=224, normalize=True):\n",
    "    if isinstance(img_size, int):\n",
    "        img_size = (img_size, img_size)\n",
    "    img = cv2.imread(img_path, cv2.IMREAD_UNCHANGED)\n",
    "    img = cv2.cvtColor(img, cv2.COLOR_BGR2RGB)\n",
    "    img = cv2.resize(img, img_size)\n",
    "    img = img2tensor(img, normalize=normalize)\n",
    "    return img"
   ]
  },
  {
   "cell_type": "code",
   "execution_count": 1,
   "metadata": {},
   "outputs": [],
   "source": [
    "import os\n",
    "import numpy as np\n",
    "import random\n",
    "import cv2\n",
    "import pandas as pd\n",
    "\n",
    "import torch\n",
    "from torch.utils.data import Dataset\n",
    "from torch.utils.data import DataLoader\n",
    "from torchvision.transforms import Normalize\n",
    "\n",
    "from dataloader import get_dataloader"
   ]
  },
  {
   "cell_type": "code",
   "execution_count": 2,
   "metadata": {},
   "outputs": [],
   "source": [
    "data_loader = get_dataloader(batch_size=16,\n",
    "                                    setting='train', \n",
    "                                    augmentation=True,\n",
    "                                    pin_memory=True,\n",
    "                                    SR_mode = 2,\n",
    "                                    data='DIV2K')"
   ]
  },
  {
   "cell_type": "code",
   "execution_count": 3,
   "metadata": {},
   "outputs": [],
   "source": [
    "for items in data_loader:\n",
    "    items = items\n",
    "    break"
   ]
  }
 ],
 "metadata": {
  "kernelspec": {
   "display_name": "Python 3.8.8 ('base')",
   "language": "python",
   "name": "python3"
  },
  "language_info": {
   "codemirror_mode": {
    "name": "ipython",
    "version": 3
   },
   "file_extension": ".py",
   "mimetype": "text/x-python",
   "name": "python",
   "nbconvert_exporter": "python",
   "pygments_lexer": "ipython3",
   "version": "3.8.8"
  },
  "orig_nbformat": 4,
  "vscode": {
   "interpreter": {
    "hash": "2cf82bc2e688c3d93a6f9c567c1bf50d23ac93a8e9531158022c12286343afea"
   }
  }
 },
 "nbformat": 4,
 "nbformat_minor": 2
}
